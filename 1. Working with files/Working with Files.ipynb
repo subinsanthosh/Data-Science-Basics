{
 "cells": [
  {
   "cell_type": "code",
   "execution_count": 28,
   "metadata": {},
   "outputs": [],
   "source": [
    "fileobj = open('sample.txt', 'r')"
   ]
  },
  {
   "cell_type": "code",
   "execution_count": 29,
   "metadata": {},
   "outputs": [
    {
     "name": "stdout",
     "output_type": "stream",
     "text": [
      "Lorem ipsum dolor sit amet, consectetur adipiscing elit. Pellentesque sed posuere leo. Fusce eget gr\n"
     ]
    }
   ],
   "source": [
    "print(fileobj.read(100))"
   ]
  },
  {
   "cell_type": "code",
   "execution_count": 30,
   "metadata": {},
   "outputs": [
    {
     "name": "stdout",
     "output_type": "stream",
     "text": [
      "<class 'str'>\n"
     ]
    }
   ],
   "source": [
    "print(type(fileobj.read()))"
   ]
  },
  {
   "cell_type": "code",
   "execution_count": 31,
   "metadata": {},
   "outputs": [
    {
     "name": "stdout",
     "output_type": "stream",
     "text": [
      "\n"
     ]
    }
   ],
   "source": [
    "print(fileobj.read(200))"
   ]
  },
  {
   "cell_type": "code",
   "execution_count": 39,
   "metadata": {},
   "outputs": [
    {
     "name": "stdout",
     "output_type": "stream",
     "text": [
      "Lorem ipsum dolor sit amet, consectetur adipiscing elit. Pellentesque sed posuere leo. Fusce eget gravida dolor. Mauris nibh purus, luctus vitae ullamcorper in, ultricies sed nisi. Maecenas vitae dui tincidunt, lacinia mauris imperdiet, pulvinar leo. Mauris mollis, ante ut placerat feugiat, eros elit tempor urna, nec venenatis augue dolor id diam. Curabitur tristique arcu ut ipsum gravida pellentesque. Curabitur semper vel nulla a accumsan.\n",
      "\n",
      "Sed id dui et enim molestie consectetur eget sit amet enim. Fusce placerat dolor purus, vitae ultricies lorem tincidunt non. Phasellus vestibulum mi sed nunc tempus accumsan. Aliquam ac urna sed arcu iaculis congue scelerisque ac nulla. Cras tincidunt volutpat ante, eu lobortis diam venenatis ut. Cras eu tempor nisl. Integer luctus interdum nisl, laoreet iaculis leo lobortis nec. Suspendisse pharetra facilisis faucibus. Nulla ut magna bibendum purus tempus pharetra. Duis maximus tellus cursus, imperdiet risus a, luctus odio. Morbi ipsum sem, ultricies condimentum dui id, scelerisque vulputate magna. Maecenas venenatis dolor egestas accumsan porta. Proin scelerisque congue odio, sit amet scelerisque velit mattis et. Donec ac felis tempor, porta sem at, fringilla quam.\n",
      "\n",
      "Phasellus vel ultricies est. Nullam in pellentesque augue. Nunc nulla mauris, dapibus ut consequat id, lacinia accumsan dui. Nulla facilisi. Praesent tempus justo non nisl finibus feugiat. Fusce varius ex et sapien commodo, quis maximus eros tincidunt. Curabitur quis lectus vitae sapien viverra mollis. Integer ultricies dapibus felis, eget posuere lacus pharetra vel. Nulla ultrices, diam vel aliquet maximus, tellus justo lobortis lorem, id ultrices lorem ligula et ante. Sed magna risus, sodales ac est vehicula, sagittis pulvinar urna. Fusce ac blandit felis. Cras volutpat interdum vulputate.\n",
      "\n",
      "Maecenas dapibus dui sed aliquet tincidunt. Nullam fringilla, lacus non venenatis iaculis, neque massa maximus quam, vel malesuada tellus augue imperdiet magna. Ut rhoncus molestie turpis, a maximus erat condimentum a. Proin semper mi ut dui commodo, nec feugiat nulla ultricies. Sed ultricies molestie lacus non tristique. Donec lorem arcu, tristique eu ex sed, sodales pulvinar arcu. Nulla interdum tortor neque, ac pellentesque lacus ornare non. Vivamus tristique arcu a euismod pulvinar. Integer dignissim, dolor sed pellentesque luctus, nisi purus congue elit, in feugiat nisi velit vel odio. Mauris pretium elit tellus, vel sodales nulla molestie in. Ut vitae mi aliquet odio vehicula scelerisque eget sit amet risus. Aenean commodo suscipit purus. Nunc at tortor id erat vestibulum viverra et quis velit. Cras a scelerisque mi. Suspendisse augue nibh, porttitor sit amet diam ac, interdum mollis erat. Sed suscipit pretium lacus.\n",
      "\n",
      "Maecenas sed gravida lorem, vitae blandit diam. Vivamus ac rhoncus arcu, vel dictum mi. Cras eu libero lobortis, blandit lorem vel, mollis dolor. Lorem ipsum dolor sit amet, consectetur adipiscing elit. Quisque euismod mollis dolor, sed rhoncus nunc pharetra hendrerit. Aliquam turpis orci, tempor non facilisis at, laoreet a elit. Aliquam consequat est in sodales elementum."
     ]
    }
   ],
   "source": [
    "fileobj = open('sample.txt', 'r')\n",
    "for line in fileobj.readlines():\n",
    "    print(line, end = '')\n",
    "fileobj.close()"
   ]
  },
  {
   "cell_type": "code",
   "execution_count": 33,
   "metadata": {},
   "outputs": [
    {
     "name": "stdout",
     "output_type": "stream",
     "text": [
      "Lorem ipsum dolor sit amet, consectetur adipiscing elit. Pellentesque sed posuere leo. Fusce eget gravida dolor. Mauris nibh purus, luctus vitae ullamcorper in, ultricies sed nisi. Maecenas vitae dui tincidunt, lacinia mauris imperdiet, pulvinar leo. Mauris mollis, ante ut placerat feugiat, eros elit tempor urna, nec venenatis augue dolor id diam. Curabitur tristique arcu ut ipsum gravida pellentesque. Curabitur semper vel nulla a accumsan.\n",
      "\n",
      "\n",
      "\n",
      "Sed id dui et enim molestie consectetur eget sit amet enim. Fusce placerat dolor purus, vitae ultricies lorem tincidunt non. Phasellus vestibulum mi sed nunc tempus accumsan. Aliquam ac urna sed arcu iaculis congue scelerisque ac nulla. Cras tincidunt volutpat ante, eu lobortis diam venenatis ut. Cras eu tempor nisl. Integer luctus interdum nisl, laoreet iaculis leo lobortis nec. Suspendisse pharetra facilisis faucibus. Nulla ut magna bibendum purus tempus pharetra. Duis maximus tellus cursus, imperdiet risus a, luctus odio. Morbi ipsum sem, ultricies condimentum dui id, scelerisque vulputate magna. Maecenas venenatis dolor egestas accumsan porta. Proin scelerisque congue odio, sit amet scelerisque velit mattis et. Donec ac felis tempor, porta sem at, fringilla quam.\n",
      "\n",
      "\n",
      "\n",
      "Phasellus vel ultricies est. Nullam in pellentesque augue. Nunc nulla mauris, dapibus ut consequat id, lacinia accumsan dui. Nulla facilisi. Praesent tempus justo non nisl finibus feugiat. Fusce varius ex et sapien commodo, quis maximus eros tincidunt. Curabitur quis lectus vitae sapien viverra mollis. Integer ultricies dapibus felis, eget posuere lacus pharetra vel. Nulla ultrices, diam vel aliquet maximus, tellus justo lobortis lorem, id ultrices lorem ligula et ante. Sed magna risus, sodales ac est vehicula, sagittis pulvinar urna. Fusce ac blandit felis. Cras volutpat interdum vulputate.\n",
      "\n"
     ]
    }
   ],
   "source": [
    "## Open and read data file as specified in the question\n",
    "## Print the required output in given format\n",
    "with open('sample.txt', 'r') as fileobj:\n",
    "    filedata = fileobj.readlines()\n",
    "for i in range(5):\n",
    "    print(filedata[i])"
   ]
  },
  {
   "cell_type": "code",
   "execution_count": 34,
   "metadata": {},
   "outputs": [
    {
     "name": "stdout",
     "output_type": "stream",
     "text": [
      "2017 1 2 Afghanistan South Asia Takhta Pul 31.320556 65.961111 Hostage Taking (Kidnapping) 0.0 0.0 Construction Workers Taliban Business Firearms 0.0 \n",
      "2017 1 3 Sudan Sub-Saharan Africa Fantaga 12.921007000000001 24.318324 Armed Assault 2.0 0.0 Civilians: Haroun Yousif,  Hamid Ibrahim Unknown Private Citizens & Property Firearms 2.0 \n",
      "2017 1 1 Democratic Republic of the Congo Sub-Saharan Africa Saboko 1.452372 29.875162 Armed Assault 7.0 0.0 Village Allied Democratic Forces (ADF) Private Citizens & Property Melee 7.0 \n",
      "2017 1 1 Democratic Republic of the Congo Sub-Saharan Africa Bialee 1.4523700000000002 29.875186 Armed Assault 7.0 0.0 Village Allied Democratic Forces (ADF) Private Citizens & Property Melee 7.0 \n",
      "2017 1 1 Turkey Middle East & North Africa Istanbul 41.106178 28.689863 Armed Assault 39.0 69.0 Nightclub Islamic State of Iraq and the Levant (ISIL) Business Firearms 108.0 \n"
     ]
    }
   ],
   "source": [
    "import csv\n",
    "\n",
    "with open('year2017.csv', 'r') as file_obj:\n",
    "    file_data = list(csv.reader(file_obj, skipinitialspace = True))\n",
    "for row in file_data[1:6]:\n",
    "    for el in row:\n",
    "        print(el, end = ' ')\n",
    "    print()"
   ]
  },
  {
   "cell_type": "code",
   "execution_count": 35,
   "metadata": {},
   "outputs": [
    {
     "name": "stdout",
     "output_type": "stream",
     "text": [
      "702\n"
     ]
    }
   ],
   "source": [
    "import csv\n",
    "\n",
    "with open('year2017.csv', 'r') as file_obj:\n",
    "    file_data = list(csv.reader(file_obj, skipinitialspace = True))\n",
    "    l = []\n",
    "    for row in file_data[1:]:\n",
    "        w = row[10]\n",
    "        if w != '':\n",
    "            if row[3] == 'India':\n",
    "                l.append(float(row[10]))\n",
    "    print(int(sum(l)))"
   ]
  },
  {
   "cell_type": "code",
   "execution_count": 36,
   "metadata": {},
   "outputs": [
    {
     "name": "stdout",
     "output_type": "stream",
     "text": [
      "29280\n"
     ]
    }
   ],
   "source": [
    "import csv\n",
    "\n",
    "with open('year2017.csv', 'r') as file_obj:\n",
    "    file_data = list(csv.DictReader(file_obj, skipinitialspace = True))\n",
    "    ans = 0\n",
    "    for row in file_data:\n",
    "        if row['Weapon_type'] == \"Explosives\" and row['casualities'] != '':\n",
    "            ans += float(row['casualities'])\n",
    "    print(int(ans))"
   ]
  },
  {
   "cell_type": "code",
   "execution_count": 37,
   "metadata": {},
   "outputs": [
    {
     "name": "stdout",
     "output_type": "stream",
     "text": [
      "1 2275\n",
      "2 2027\n",
      "3 2463\n",
      "4 2142\n",
      "5 2936\n",
      "6 2506\n",
      "7 2228\n",
      "8 2145\n",
      "9 1764\n",
      "10 2580\n",
      "11 2014\n",
      "12 1365\n"
     ]
    }
   ],
   "source": [
    "import csv\n",
    "\n",
    "with open('year2017.csv', 'r') as file_obj:\n",
    "    file_data = list(csv.DictReader(file_obj, skipinitialspace = True))\n",
    "    ans = [0] * 13\n",
    "    for row in file_data:\n",
    "        if row[\"Killed\"] != '':\n",
    "            ans[int(float(row[\"Month\"]))] += int(float(row[\"Killed\"]))\n",
    "    for i in range(1, 13):\n",
    "        print(i, ans[i])"
   ]
  },
  {
   "cell_type": "code",
   "execution_count": 38,
   "metadata": {},
   "outputs": [
    {
     "name": "stdout",
     "output_type": "stream",
     "text": [
      "Afghanistan 11698\n",
      "Sudan 255\n",
      "Democratic Republic of the Congo 636\n",
      "Turkey 548\n",
      "Syria 2731\n",
      "Pakistan 3153\n",
      "Italy 8\n",
      "Somalia 3038\n",
      "Yemen 1446\n",
      "Bahrain 32\n",
      "Myanmar 85\n",
      "Burundi 147\n",
      "Iraq 10999\n",
      "Egypt 1499\n",
      "Burkina Faso 98\n",
      "India 1157\n",
      "Algeria 31\n",
      "United States 1027\n",
      "Philippines 1148\n",
      "Greece 7\n",
      "Mali 657\n",
      "Libya 316\n",
      "Central African Republic 569\n",
      "Nigeria 2300\n",
      "Lebanon 66\n",
      "Mexico 29\n",
      "Cameroon 448\n",
      "Ethiopia 80\n",
      "Kyrgyzstan 0\n",
      "Serbia 1\n",
      "Sweden 37\n",
      "Thailand 342\n",
      "Iran 106\n",
      "France 35\n",
      "United Kingdom 343\n",
      "West Bank and Gaza Strip 125\n",
      "Ukraine 104\n",
      "Paraguay 5\n",
      "Colombia 188\n",
      "Malaysia 6\n",
      "Russia 175\n",
      "Kosovo 4\n",
      "South Africa 28\n",
      "Chile 2\n",
      "Kenya 204\n",
      "Israel 18\n",
      "Saudi Arabia 100\n",
      "China 92\n",
      "Nepal 97\n",
      "Ecuador 0\n",
      "Niger 210\n",
      "Venezuela 37\n",
      "South Sudan 836\n",
      "Canada 31\n",
      "Bangladesh 97\n",
      "Tajikistan 1\n",
      "Angola 416\n",
      "Ireland 0\n",
      "Peru 12\n",
      "Dominican Republic 3\n",
      "Poland 0\n",
      "Jordan 5\n",
      "Azerbaijan 7\n",
      "Mozambique 33\n",
      "Indonesia 47\n",
      "Germany 11\n",
      "Brazil 0\n",
      "Macedonia 0\n",
      "Tunisia 10\n",
      "Uganda 9\n",
      "Chad 2\n",
      "Finland 12\n",
      "Australia 25\n",
      "Norway 0\n",
      "Vietnam 0\n",
      "Tanzania 10\n",
      "Sierra Leone 0\n",
      "Sri Lanka 4\n",
      "Maldives 1\n",
      "Belgium 4\n",
      "Rwanda 10\n",
      "Honduras 2\n",
      "Czech Republic 0\n",
      "Malta 1\n",
      "Gabon 2\n",
      "Laos 1\n",
      "Djibouti 0\n",
      "Austria 2\n",
      "Zambia 0\n",
      "Argentina 0\n",
      "Papua New Guinea 3\n",
      "Zimbabwe 1\n",
      "Ivory Coast 5\n",
      "Spain 132\n",
      "Taiwan 1\n",
      "Jamaica 0\n",
      "Albania 0\n",
      "Liberia 0\n",
      "Georgia 5\n",
      "Malawi 0\n",
      "Netherlands 0\n",
      "Latvia 0\n"
     ]
    }
   ],
   "source": [
    "import csv\n",
    "\n",
    "with open('year2017.csv', 'r') as file_obj:\n",
    "    file_data = list(csv.DictReader(file_obj, skipinitialspace = True))\n",
    "    d = {}\n",
    "    for row in file_data:\n",
    "        cas = row[\"casualities\"]\n",
    "        if cas == '':\n",
    "            cas = 0\n",
    "        else: \n",
    "            cas = int(float(cas))\n",
    "        \n",
    "        d[row[\"Country\"]] = d.get(row[\"Country\"], 0) + cas\n",
    "    for c in d:\n",
    "        print(c, d[c])"
   ]
  },
  {
   "cell_type": "code",
   "execution_count": null,
   "metadata": {},
   "outputs": [],
   "source": []
  }
 ],
 "metadata": {
  "kernelspec": {
   "display_name": "Python 3 (ipykernel)",
   "language": "python",
   "name": "python3"
  },
  "language_info": {
   "codemirror_mode": {
    "name": "ipython",
    "version": 3
   },
   "file_extension": ".py",
   "mimetype": "text/x-python",
   "name": "python",
   "nbconvert_exporter": "python",
   "pygments_lexer": "ipython3",
   "version": "3.11.0"
  }
 },
 "nbformat": 4,
 "nbformat_minor": 2
}
